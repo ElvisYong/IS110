{
 "cells": [
  {
   "cell_type": "markdown",
   "source": [
    "<table class=\"table table-bordered\">\r\n",
    "    <tr>\r\n",
    "        <th style=\"text-align:center; width:35%\"><img src='https://scis.smu.edu.sg/sites/all/themes/smubase_nw2_rev/svg/logo-d-smu.svg' style=\"width: 300px; height: 90px; \"></th>\r\n",
    "        <th style=\"text-align:center;\"><h3>IS111 - Notebook 5</h3><h2>More on Conditional Statements</h2></th>\r\n",
    "    </tr>\r\n",
    "</table>"
   ],
   "metadata": {}
  },
  {
   "cell_type": "markdown",
   "source": [
    "## Learning Outcomes\n",
    "\n",
    "At the end of this lesson, you should be able to:\n",
    "<ul>\n",
    "<li> Understand and apply nested if/else statements to solve problems.</li>\n",
    "<li> Understand and apply logical operators to solve problems.</li>\n",
    "</ul>\n",
    "\n",
    "\n",
    "In this notebook, we will discuss some more complex conditional statements."
   ],
   "metadata": {}
  },
  {
   "cell_type": "markdown",
   "source": [
    "## I. Nested if-else Statements\n",
    "\n",
    "It is possible to place one if or if-else statement inside another if or if-else statement. These are called nested if-else statements.\n",
    "\n",
    "Recall the following code from the earlier notebook on conditions:"
   ],
   "metadata": {}
  },
  {
   "cell_type": "code",
   "execution_count": null,
   "source": [
    "def find_grade(score):\r\n",
    "    if score >= 90:\r\n",
    "        return 'A'\r\n",
    "    elif score >= 80:\r\n",
    "        return 'B'\r\n",
    "    elif score >= 70:\r\n",
    "        return 'C'\r\n",
    "    else:\r\n",
    "        return 'D'"
   ],
   "outputs": [],
   "metadata": {
    "collapsed": true
   }
  },
  {
   "cell_type": "markdown",
   "source": [
    "The code above can also be implemented in the following way:"
   ],
   "metadata": {}
  },
  {
   "cell_type": "code",
   "execution_count": null,
   "source": [
    "def find_grade2(score):\r\n",
    "    if score >= 90:\r\n",
    "        return 'A'\r\n",
    "    else:\r\n",
    "        if score >= 80:\r\n",
    "            return 'B'\r\n",
    "        else:\r\n",
    "            if score >= 70:\r\n",
    "                return 'C'\r\n",
    "            else:\r\n",
    "                return 'D'\r\n",
    "            \r\n",
    "print(find_grade2(85))\r\n",
    "print(find_grade2(63))"
   ],
   "outputs": [],
   "metadata": {}
  },
  {
   "cell_type": "markdown",
   "source": [
    "<img align=\"left\" src='https://drive.google.com/uc?export=view&id=0B08uY8vosNfobDBuOXVXQWVxMFE' style=\"width: 60px; height: 60px;\"><br />Let's do an exercise !"
   ],
   "metadata": {}
  },
  {
   "cell_type": "markdown",
   "source": [
    "Can you complete the code below using nested if-else statement to implement yet another version of the function that behaves in the same way? "
   ],
   "metadata": {}
  },
  {
   "cell_type": "code",
   "execution_count": null,
   "source": [
    "def find_grade3(score):\r\n",
    "    if score >= 80:\r\n",
    "        # add an if-else statement here to return either 'A' or 'B'\r\n",
    "\r\n",
    "        pass\r\n",
    "    else:\r\n",
    "        # add another if-else statement here to return either 'C' or 'D'\r\n",
    "        \r\n",
    "        pass\r\n",
    "        \r\n",
    "        \r\n",
    "print(find_grade3(85))\r\n",
    "print(find_grade3(63))"
   ],
   "outputs": [],
   "metadata": {}
  },
  {
   "cell_type": "markdown",
   "source": [
    "## II. Logical Operators\n",
    "\n",
    "We sometimes need to check more than one conditions in order to make a decision. Logical operators are designed to help us with this need.\n",
    "\n",
    "There are three logical operators, `and`, `or` and `not`. These operators are applied to Boolean values. In the table below, we explain these operators and give some examples. Assume that `a` is a variable whose value is `False`, and `b` is another variable whose value is `True`."
   ],
   "metadata": {}
  },
  {
   "cell_type": "markdown",
   "source": [
    "<table align=\"left\" class=\"table table-bordered\" style=\"width:90%\">\n",
    "<tr>\n",
    "<th style=\"text-align:center; width:10%\">Operator</th>\n",
    "<th style=\"text-align:center; width:55%\">Description</th>\n",
    "<th style=\"text-align:center\">Example</th>\n",
    "</tr>\n",
    "<tr>\n",
    "<td style=\"text-align:center; vertical-align:middle;\"><font face=\"courier new\">and</font></td>\n",
    "<td style=\"text-align:left\">If both operands are true, then the value of the expression is true. Otherwise it is false.</td>\n",
    "<td><font face=\"courier new\">a and b</font><br/>value: <font face=\"courier new\">False</font></td>\n",
    "</tr>\n",
    "<tr>\n",
    "<td style=\"text-align:center; vertical-align:middle;\"><font face=\"courier new\">or</font></td>\n",
    "<td style=\"text-align:left\">If at least one of the two operands is true, then the value of the expression is true. Otherwise it is false.</td>\n",
    "<td><font face=\"courier new\">a or b</font><br/>value: <font face=\"courier new\">True</font></td>\n",
    "</tr>\n",
    "<tr>\n",
    "<td style=\"text-align:center; vertical-align:middle;\"><font face=\"courier new\">not</font></td>\n",
    "<td style=\"text-align:left\">This operator takes a single operand. If the operand is true, the expression is false. Otherwise the expression is true.</td>\n",
    "<td><font face=\"courier new\">not a</font><br/>value: <font face=\"courier new\">True</font></td>\n",
    "</tr>\n",
    "</table>\n"
   ],
   "metadata": {}
  },
  {
   "cell_type": "markdown",
   "source": [
    "Note that these logical operators are used not just to connect variables of bool type but also other Boolean expressions. \n",
    "\n",
    "Take a look at the following example code. If the user enters `10` as age and `'M'` as gender, what do you think the output of the code will be? How about `10` as age and `'F'` as gender? Run the code to try it out."
   ],
   "metadata": {}
  },
  {
   "cell_type": "code",
   "execution_count": null,
   "source": [
    "age = int(input(\"How old are you? \"))\r\n",
    "gender = input(\"What's your gender? (M|F) \")\r\n",
    "\r\n",
    "if age <= 12 and gender == 'M':\r\n",
    "    print(\"Hello boy!\")"
   ],
   "outputs": [],
   "metadata": {
    "collapsed": true
   }
  },
  {
   "cell_type": "markdown",
   "source": [
    "Think about how you could implement this code without using the logical operator `and`. One way is the following:"
   ],
   "metadata": {}
  },
  {
   "cell_type": "code",
   "execution_count": null,
   "source": [
    "age = int(input(\"How old are you? \"))\r\n",
    "gender = input(\"What's your gender? (M|F) \")\r\n",
    "\r\n",
    "if age <= 12:\r\n",
    "    if gender == 'M':\r\n",
    "        print(\"Hello boy!\")"
   ],
   "outputs": [],
   "metadata": {
    "collapsed": true
   }
  },
  {
   "cell_type": "markdown",
   "source": [
    "Although the code above also works, we can see that using the `and` operator makes the code more compact and easier to understand."
   ],
   "metadata": {
    "collapsed": true
   }
  },
  {
   "cell_type": "markdown",
   "source": [
    "### Precedence Table\n",
    "\n",
    "With the new operators we have learned, let's look at the following precedence table with more operators. Precedence goes down when we move down the table.\n",
    "\n",
    "<table align=\"left\" class=\"table table-bordered\">\n",
    "<tr>\n",
    "<th style=\"text-align:center; width:25%\">Operator</th>\n",
    "<th style=\"text-align:center; width:35%\">Description</th>\n",
    "</tr>\n",
    "<tr>\n",
    "<td style=\"text-align:center; vertical-align:middle;\">&#8727;&#8727;</td>\n",
    "<td>Exponent</td>\n",
    "</tr>\n",
    "<tr>\n",
    "<td style=\"text-align:center; vertical-align:middle;\">&#8727;, /, %, //</td>\n",
    "<td>Multiplication, division, modulo and floor division</td>\n",
    "</tr>\n",
    "<tr>\n",
    "<td style=\"text-align:center; vertical-align:middle;\">+, -</td>\n",
    "<td>Addition and subtraction</td>\n",
    "</tr>\n",
    "<tr>\n",
    "<td style=\"text-align:center; vertical-align:middle;\">==, !=, &lt;, &lt;=, >, >=</td>\n",
    "<td>Relational Operators</td>\n",
    "</tr>\n",
    "<tr>\n",
    "<td style=\"text-align:center; vertical-align:middle;\">not</td>\n",
    "<td>Boolean NOT</td>\n",
    "</tr>\n",
    "<tr>\n",
    "<td style=\"text-align:center; vertical-align:middle;\">and</td>\n",
    "<td>Boolean AND</td>\n",
    "</tr>\n",
    "<tr>\n",
    "<td style=\"text-align:center; vertical-align:middle;\">or</td>\n",
    "<td>Boolean OR</td>\n",
    "</tr>\n",
    "</table>\n"
   ],
   "metadata": {
    "collapsed": true
   }
  },
  {
   "cell_type": "markdown",
   "source": [
    "<img align=\"left\" src='https://drive.google.com/uc?export=view&id=0B08uY8vosNfobDBuOXVXQWVxMFE' style=\"width: 60px; height: 60px;\"><br />Let's do an exercise !"
   ],
   "metadata": {}
  },
  {
   "cell_type": "markdown",
   "source": [
    "Can you figure out the values of the expression below without running the code?"
   ],
   "metadata": {}
  },
  {
   "cell_type": "code",
   "execution_count": null,
   "source": [
    "print(10 > 12 or 10 < 15)\r\n",
    "print(not 10 > 12 and 10 < 15 )\r\n",
    "print(not (10 != 10 or 15 > 10))"
   ],
   "outputs": [],
   "metadata": {
    "collapsed": true
   }
  },
  {
   "cell_type": "markdown",
   "source": [
    "### De Morgan's Law\n",
    "\n",
    "If we look at the last expression above, we can see that it's quite complicated. We can simplify the expression using <b>De Morgan's Law</b>.\n",
    "\n",
    "The De Morgan's Law states that\n",
    "<ul>\n",
    "<li>not (A and B) is equivalent to (not A or not B)</li>\n",
    "<li>not (A or B) is equivalent to (not A and not B)</li>\n",
    "</ul>\n",
    "\n",
    "For example, compare the following two `print()` statements:"
   ],
   "metadata": {}
  },
  {
   "cell_type": "code",
   "execution_count": null,
   "source": [
    "a = True\r\n",
    "b = True\r\n",
    "\r\n",
    "print(not (a and b))\r\n",
    "print(not a or not b)"
   ],
   "outputs": [],
   "metadata": {
    "collapsed": true
   }
  },
  {
   "cell_type": "markdown",
   "source": [
    "You can modify the values of `a` and `b` above and see whether the two `print()` statements are always the same."
   ],
   "metadata": {}
  },
  {
   "cell_type": "markdown",
   "source": [
    "<img align=\"left\" src='https://drive.google.com/uc?export=view&id=0B08uY8vosNfobDBuOXVXQWVxMFE' style=\"width: 60px; height: 60px;\"><br />Let's do an exercise !"
   ],
   "metadata": {}
  },
  {
   "cell_type": "markdown",
   "source": [
    "Can you simplify the following expression?"
   ],
   "metadata": {}
  },
  {
   "cell_type": "code",
   "execution_count": null,
   "source": [
    "print(not (10 != 10 or 15 > 10))\r\n",
    "\r\n",
    "# Enter your simplified expression below:\r\n"
   ],
   "outputs": [],
   "metadata": {}
  }
 ],
 "metadata": {
  "kernelspec": {
   "name": "python3",
   "display_name": "Python 3.8.8 64-bit ('base': conda)"
  },
  "language_info": {
   "codemirror_mode": {
    "name": "ipython",
    "version": 3
   },
   "file_extension": ".py",
   "mimetype": "text/x-python",
   "name": "python",
   "nbconvert_exporter": "python",
   "pygments_lexer": "ipython3",
   "version": "3.8.8"
  },
  "interpreter": {
   "hash": "951e67ffb7f3bd0913ac5cd4eb4e94b70128659a1c74ea9a34ac16faced73bb7"
  }
 },
 "nbformat": 4,
 "nbformat_minor": 2
}