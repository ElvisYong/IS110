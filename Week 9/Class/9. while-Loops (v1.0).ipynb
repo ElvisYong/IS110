{
 "cells": [
  {
   "cell_type": "markdown",
   "source": [
    "<table class=\"table table-bordered\">\r\n",
    "    <tr>\r\n",
    "        <th style=\"text-align:center; width:35%\"><img src='https://scis.smu.edu.sg/sites/all/themes/smubase_nw2_rev/svg/logo-d-smu.svg' style=\"width: 300px; height: 90px; \"></th>\r\n",
    "        <th style=\"text-align:center;\"><h3>IS111 - Notebook 9</h3><h2>while-Loops</h2></th>\r\n",
    "    </tr>\r\n",
    "</table>"
   ],
   "metadata": {}
  },
  {
   "cell_type": "markdown",
   "source": [
    "## Learning Outcomes\n",
    "\n",
    "At the end of this lesson, you should be able to:\n",
    "<ul>\n",
    "<li>Understand the flow of execution of a `while`-loop and trace a `while`-loop.</li>\n",
    "<li>Apply `while`-loops to solve problems where there are repetitions and the loop ends with a certain condition.</li>\n",
    "<li>Detect and avoid infinite loops.</li>\n",
    "</ul>"
   ],
   "metadata": {}
  },
  {
   "cell_type": "markdown",
   "source": [
    "We have seen how we can use a `for`-loop to go through a sequence of integers, to go through all the characters inside a string, and to go through all the elements inside a list. In all these cases, <b>we know exactly how many times</b> the loop is going to run.\n",
    "\n",
    "In some scenarios, we need to repeat an action <b>until a certain condition is satisfied</b>; we do not know how many times the loop is going to run before the loop ends.\n",
    "\n",
    "For example, when we prompt the user for a positive integer, we might want to verify that the user has indeed entered a positive integer, and if not, we would like to prompt the user again. This process repeats until the user has entered a positive integer.\n",
    "\n",
    "How can we write Python code to repeat this action of prompting the user again and again until the user's input number is positive? We can use a `while`-loop.\n",
    "\n",
    "## I. The `while` Statement\n",
    "\n",
    "A standard `while`-loop looks as follows:\n",
    "\n",
    "    while expression:\n",
    "        statement(s)\n",
    "\n",
    "The flow of execution of the while-loop above can be illustrated by the following flow chart:"
   ],
   "metadata": {}
  },
  {
   "cell_type": "markdown",
   "source": [
    "<img align=\"left\" src='https://drive.google.com/uc?export=view&id=0B08uY8vosNfoSnVPVVAxY2J6a0U' style=\"width: 290px; height: 250px;\">"
   ],
   "metadata": {}
  },
  {
   "cell_type": "markdown",
   "source": [
    "<ul>\n",
    "<li>When we first enter the loop, the `expression`, which should have a `bool` value, is first evaluated, resulting in either `True` or `False`.\n",
    "<ul>\n",
    "<li>If the value is `True`, each statement in the the body of the `while`-loop is executed. After that, the flow of execution of the program returns to the first row of the `while`-loop, which means the `bool` expression is to be evaluated again.</li>\n",
    "    <li>If the value is `False`, the program <b>exits</b> the `while`-loop immediately, and the flow of execution moves to the next statement after the `while`-loop.</li>\n",
    "</ul>\n",
    "</li>\n",
    "</ul>"
   ],
   "metadata": {}
  },
  {
   "cell_type": "markdown",
   "source": [
    "## II. An Example"
   ],
   "metadata": {}
  },
  {
   "cell_type": "markdown",
   "source": [
    "Take the previous scenario as an example. The following code will keep prompting the user until the user enters a positive integer. (It is assumed that the user always enters an integer.)"
   ],
   "metadata": {}
  },
  {
   "cell_type": "code",
   "execution_count": null,
   "source": [
    "num = int(input(\"Enter a positive integer:\"))\r\n",
    "while num <= 0:\r\n",
    "    print(\"Error!\")\r\n",
    "    num = int(input(\"Enter a positive integer:\"))\r\n",
    "    \r\n",
    "print(\"Thanks! You've entered a valid number.\")"
   ],
   "outputs": [],
   "metadata": {
    "scrolled": true
   }
  },
  {
   "cell_type": "markdown",
   "source": [
    "Try the following input values on the code above and observe the behaviors of the code:\n",
    "\n",
    "    Enter a positive integer:-9\n",
    "    Error!\n",
    "    Enter a positive integer:-4\n",
    "    Error! \n",
    "    Enter a positive integer:0\n",
    "    Error! \n",
    "    Enter a positive integer:6\n",
    "    Thanks! You've entered a valid number.\n",
    "\n",
    "We can see that the code in Line 3 and Line 4 above is repeated as long as the variable `num` is smaller than or equal to 0, i.e., when `num` is not a positive integer. Because of the code in Line 4, the variable `num` is updated before we go back to Line 2. When `num` becomes a positive integer, the condition in Line 2 becomes `False` and then we exit the loop.\n",
    "\n",
    "We can also see that we <b>cannot</b> use a `for`-loop to solve the problem above because <b>we do not know beforehand how many times</b> the code in Line 3 and Line 4 is to be executed."
   ],
   "metadata": {}
  },
  {
   "cell_type": "markdown",
   "source": [
    "<img align=\"left\" src='https://drive.google.com/uc?export=view&id=0B08uY8vosNfobDBuOXVXQWVxMFE' style=\"width: 60px; height: 60px;\"><br />Let's do an exercise !"
   ],
   "metadata": {}
  },
  {
   "cell_type": "markdown",
   "source": [
    "Use a `while`-loop to write a piece of code that prompts the user for a string. Keep prompting the user until the string entered by the user has between 3 and 8 characters, i.e., the length of the string is between 3 and 8.\n",
    "\n",
    "Here's a sample run of the code:\n",
    "\n",
    "    Enter a string:IS\n",
    "    The string must have between 3 and 8 characters.\n",
    "    Enter a string:Programming\n",
    "    The string must have between 3 and 8 characters.\n",
    "    Enter a string:Python\n",
    "    Great!"
   ],
   "metadata": {}
  },
  {
   "cell_type": "code",
   "execution_count": null,
   "source": [
    "# Write your code here"
   ],
   "outputs": [],
   "metadata": {}
  },
  {
   "cell_type": "markdown",
   "source": [
    "## III. Infinite Loops\n",
    "\n",
    "<br /><img align=\"left\" src='https://drive.google.com/uc?export=view&id=0B08uY8vosNfoaXhScW13azZmTVk' style=\"width: 85px; height: 75px;\">"
   ],
   "metadata": {}
  },
  {
   "cell_type": "markdown",
   "source": [
    "A common mistake when writing `while`-loops is to create an <b><font color = 'red'>infinite loop</font></b>. An infinite loop is one that never ends!\n",
    "\n",
    "In other words, the `bool` expression that controls the `while`-loop never becomes `False`.\n",
    "\n",
    "Let us revisit the previous example. Suppose our code looks like the following:"
   ],
   "metadata": {
    "collapsed": true
   }
  },
  {
   "cell_type": "code",
   "execution_count": null,
   "source": [
    "num_str = input(\"Enter a positive integer:\")\r\n",
    "num = int(num_str)\r\n",
    "while num <= 0:\r\n",
    "    print(\"Error!\")\r\n",
    "    num_str = input(\"Enter a positive integer:\")\r\n",
    "    \r\n",
    "print(\"Thanks! You've entered a valid number.\")"
   ],
   "outputs": [],
   "metadata": {
    "tags": []
   }
  },
  {
   "cell_type": "markdown",
   "source": [
    "Try the following values on the code above and observe the behaviors of the code. Can you find a way to fix the problem?\n",
    "\n",
    "(To stop the infinite loop, you'll have to choose \"Restart & Clear Output\" under \"Kernel\".)\n",
    "\n",
    "    Enter a positive integer:-4\n",
    "    Error!\n",
    "    Enter a positive integer:3\n",
    "    Error!\n",
    "    Enter a positive integer:5\n",
    "    Error!\n",
    "    \n",
    "    \n",
    "Hint: For new inputs from the user, have they been properly converted to numbers?"
   ],
   "metadata": {}
  },
  {
   "cell_type": "markdown",
   "source": [
    "## IV. Working with Complex Conditions\n",
    "\n",
    "Oftentimes `while`-loops are used to check some complex conditions. For example, consider the following scenario: We want to prompt the user for an even number between 2 and 100 (both inclusive). We need to keep prompting the user until the user enters a valid number. How do we formulate the `bool` expression inside the `while` statement for this scenario?\n",
    "\n",
    "We can see that it may <b>not be easy</b> the specify <b>the condition under which we need to re-prompt the user</b>, i.e., the condition under which the input is <b>invalid</b>. On the other hand, it is <b>easier</b> to formulate <b>the condition under which the input is valid</b>. Let `num` represent the input number from the user. The condition under which `num` is considered valid is the following:\n",
    "\n",
    "    num >= 2 and num <= 100 and num % 2 == 0\n",
    "    \n",
    "So when we write our `while`-loop to check whether we need to re-prompt the user, we need to check whether the complex condition above is <b>not</b> `True`, i.e., whether the condition above is `False`. When the entire condition above is `False`, we need to re-prompt the user.\n",
    "\n",
    "Therefore, we can write our `while`-loop as follows:"
   ],
   "metadata": {}
  },
  {
   "cell_type": "code",
   "execution_count": null,
   "source": [
    "num = int(input(\"Please enter a number: \"))\r\n",
    "while (not (num >= 2 and num <= 100 and num % 2 == 0 )):\r\n",
    "       num = int(input(\"Error! Please enter a number: \"))"
   ],
   "outputs": [],
   "metadata": {}
  },
  {
   "cell_type": "markdown",
   "source": [
    "If we apply the De Morgan's law, the code above can be simplified as follows:"
   ],
   "metadata": {}
  },
  {
   "cell_type": "code",
   "execution_count": null,
   "source": [
    "num = int(input(\"Please enter a number: \"))\r\n",
    "while (num < 2 or num > 100 or num % 2 != 0 ):\r\n",
    "       num = int(input(\"Error! Please enter a number: \"))"
   ],
   "outputs": [],
   "metadata": {}
  },
  {
   "cell_type": "markdown",
   "source": [
    "Compare the two `while`-loops above, which are both correct solutions to the question. Which solution do you think is easier for you to come up with?"
   ],
   "metadata": {}
  },
  {
   "cell_type": "markdown",
   "source": [
    "In general, you may find it <b>easier</b> to first formulate the condition under which a `while`-loop needs to be <b>terminated</b>. Then you can simply add <b>not</b> in front of the entire complex condition to negate the condition, and place this negated condition inside the `while` statement as the `bool` expression to be checked. If you want, you can further apply De Morgan's law to simplify the condition."
   ],
   "metadata": {}
  },
  {
   "cell_type": "markdown",
   "source": [
    "<img align=\"left\" src='https://drive.google.com/uc?export=view&id=0B08uY8vosNfobDBuOXVXQWVxMFE' style=\"width: 60px; height: 60px;\"><br />Let's do an exercise !"
   ],
   "metadata": {}
  },
  {
   "cell_type": "markdown",
   "source": [
    "Use a `while`-loop to prompt the user for a string that satisfies the conditions below:\n",
    "\n",
    "(1) The string must start with either `'A'` or `'a'`.\n",
    "\n",
    "(2) The string must have at least 5 characters.\n",
    "\n",
    "(3) The string must end with either `'Z'` or `'z'`.\n",
    "\n",
    "A sample run of the code looks like the following:\n",
    "\n",
    "    Enter a string:123456\n",
    "    Error!\n",
    "    Enter a string:az\n",
    "    Error!\n",
    "    Enter a string:BCDEZ\n",
    "    Error!\n",
    "    Enter a string:ABCDz\n",
    "    Great!"
   ],
   "metadata": {}
  },
  {
   "cell_type": "code",
   "execution_count": null,
   "source": [
    "# Write your code here"
   ],
   "outputs": [],
   "metadata": {}
  }
 ],
 "metadata": {
  "kernelspec": {
   "display_name": "Python 3",
   "language": "python",
   "name": "python3"
  },
  "language_info": {
   "codemirror_mode": {
    "name": "ipython",
    "version": 3
   },
   "file_extension": ".py",
   "mimetype": "text/x-python",
   "name": "python",
   "nbconvert_exporter": "python",
   "pygments_lexer": "ipython3",
   "version": "3.7.3-final"
  }
 },
 "nbformat": 4,
 "nbformat_minor": 2
}