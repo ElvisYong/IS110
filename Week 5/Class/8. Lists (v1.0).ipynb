{
 "cells": [
  {
   "cell_type": "markdown",
   "source": [
    "<table class=\"table table-bordered\">\r\n",
    "    <tr>\r\n",
    "        <th style=\"text-align:center; width:35%\"><img src='https://scis.smu.edu.sg/sites/all/themes/smubase_nw2_rev/svg/logo-d-smu.svg' style=\"width: 300px; height: 90px; \"></th>\r\n",
    "        <th style=\"text-align:center;\"><h3>IS111 - Notebook 8</h3><h2>Lists</h2></th>\r\n",
    "    </tr>\r\n",
    "</table>"
   ],
   "metadata": {}
  },
  {
   "cell_type": "markdown",
   "source": [
    "## Learning Outcomes\r\n",
    "\r\n",
    "At the end of this lesson, you should be able to:\r\n",
    "<ul>\r\n",
    "<li>Know how to create a list.</li>\r\n",
    "<li>Access an element of a list using [].</li>\r\n",
    "<li>Get the length of a list using <b>len()</b>.</li>\r\n",
    "<li>Use the slice operator to get multiple elements of a list.</li>\r\n",
    "<li>Update a single element of a list.</li>\r\n",
    "<li>Use <b>+</b> to concatenate two lists.</li>\r\n",
    "<li>Use a <b>for</b>-loop to traverse a list.</li>\r\n",
    "<li>Add an element to a list.</li>\r\n",
    "<li>Understand how list is passed as an argument to a function.</li>\r\n",
    "</ul>\r\n",
    "\r\n",
    "Like strings, lists are sequences of elements. While strings are sequences of characters, lists are sequences of any type of data. Like strings, lists also provide sequential storage through an index offset and access to single or consecutive elements through slices.\r\n",
    "\r\n",
    "## I. List Creation\r\n",
    "\r\n",
    "Creating lists is as simple as assigning a value to a variable.\r\n",
    "\r\n",
    "<b>Lists</b> are comma-separated values <b>delimited</b> by square brackets `[` and `]`.\r\n",
    "\r\n",
    "See the following example code:"
   ],
   "metadata": {}
  },
  {
   "cell_type": "code",
   "execution_count": null,
   "source": [
    "a_list = [5, 10, 15, 20, 25]\r\n",
    "print(a_list)\r\n",
    "\r\n",
    "b_list = ['a', 'bc', 'def', 10, 11]\r\n",
    "print(b_list)"
   ],
   "outputs": [],
   "metadata": {
    "tags": []
   }
  },
  {
   "cell_type": "markdown",
   "source": [
    "The first example is a list with five integers, whereas the second example is a list with three strings.\n",
    "\n",
    "A list with <b>no element</b> is called an empty list and is denoted `[ ]`."
   ],
   "metadata": {}
  },
  {
   "cell_type": "markdown",
   "source": [
    "## II. Accessing Elements of a List"
   ],
   "metadata": {}
  },
  {
   "cell_type": "markdown",
   "source": [
    "Similar to how we can access a single character in a string, we can access a single element in a list using `[]` with an index.\n",
    "\n",
    "Remember that the first index is `0` and the last index is `n - 1`, where `n` is the length of the list.\n",
    "\n",
    "Try to run the code below and check whether the output is what you've expected:"
   ],
   "metadata": {}
  },
  {
   "cell_type": "code",
   "execution_count": null,
   "source": [
    "print(a_list[5])\r\n",
    "print(b_list[2])"
   ],
   "outputs": [],
   "metadata": {}
  },
  {
   "cell_type": "markdown",
   "source": [
    "### Length of a List and IndexError\n",
    "\n",
    "The function `len()` that we use to get the length of a string can also be applied to a list."
   ],
   "metadata": {}
  },
  {
   "cell_type": "code",
   "execution_count": null,
   "source": [
    "print(len(a_list))\r\n",
    "print(len(b_list))"
   ],
   "outputs": [],
   "metadata": {}
  },
  {
   "cell_type": "markdown",
   "source": [
    "Also similar to strings, if we try to access an element of a list with an index greater than or equal to the length of the list, we will get an `IndexError`."
   ],
   "metadata": {}
  },
  {
   "cell_type": "code",
   "execution_count": null,
   "source": [
    "# This code generates an IndexError!\r\n",
    "print(b_list[len(b_list)])"
   ],
   "outputs": [],
   "metadata": {
    "tags": []
   }
  },
  {
   "cell_type": "markdown",
   "source": [
    "## IV. Accessing Multiple Elements of a List\n",
    "\n",
    "The <b>slice operator</b> we saw previously for strings works similarly with <b>lists</b>: "
   ],
   "metadata": {}
  },
  {
   "cell_type": "code",
   "execution_count": null,
   "source": [
    "a_list = [1, 2, 3, 4, 5]\r\n",
    "\r\n",
    "print(a_list[0:6:2])\r\n"
   ],
   "outputs": [],
   "metadata": {
    "tags": []
   }
  },
  {
   "cell_type": "markdown",
   "source": [
    "We can see that by slicing a list, we get a new list that consists of selected elements from the original list.\n",
    "\n",
    "In general, given a list `my_list`, using `my_list[m:n:s]`, we get a new list that consists of the elements from `my_list` with indices `m`, `m + s`, `m + 2s`, etc., until `n-1` is reached. See the example below:"
   ],
   "metadata": {}
  },
  {
   "cell_type": "code",
   "execution_count": null,
   "source": [
    "n_list = [1, 2, 3, 4, 5, 6, 7, 8, 9, 10]\r\n",
    "print(n_list[0:9:3])"
   ],
   "outputs": [],
   "metadata": {
    "tags": []
   }
  },
  {
   "cell_type": "markdown",
   "source": [
    "We can see that in the example above, since the starting index is `0`, the end index is `9` and the step is `3`, we will get the elements in `n_list` with indices of `0`, `3` and `6`, resulting in `[1, 4, 7]`. The resulting list doesn't include the element in `n_list` with the index `9`."
   ],
   "metadata": {}
  },
  {
   "cell_type": "markdown",
   "source": [
    "## V. Updating an Element of a List\n",
    "\n",
    "Unlike tuples and strings, <b>lists</b> are <b>mutable</b>, which means we can <b>change</b> the elements of a list.\n",
    "\n",
    "Run the code below to see the change made to the list <b>fruits</b>."
   ],
   "metadata": {}
  },
  {
   "cell_type": "code",
   "execution_count": null,
   "source": [
    "fruits = ['orange', 'mango', 'lemon']\r\n",
    "print(fruits)\r\n",
    "fruits[2] = 'kiwi'\r\n",
    "print(fruits)"
   ],
   "outputs": [],
   "metadata": {
    "tags": []
   }
  },
  {
   "cell_type": "markdown",
   "source": [
    "## VI. List Concatenation\n",
    "\n",
    "Just like we can concatenate two strings using `+`, we can use `+` to concatenate two lists as well."
   ],
   "metadata": {}
  },
  {
   "cell_type": "code",
   "execution_count": null,
   "source": [
    "list1 = [1, 2, 3, 4]\r\n",
    "list2 = [5, 6, 7]\r\n",
    "\r\n",
    "new_list = list1 + list2 + list1 + list2\r\n",
    "print(new_list)"
   ],
   "outputs": [],
   "metadata": {}
  },
  {
   "cell_type": "markdown",
   "source": [
    "Note that the `+` operator creates a new list. The old lists, `list1` and `list2`, have not been affected."
   ],
   "metadata": {}
  },
  {
   "cell_type": "code",
   "execution_count": null,
   "source": [
    "print(list1)\r\n",
    "print(list2)"
   ],
   "outputs": [],
   "metadata": {
    "collapsed": true
   }
  },
  {
   "cell_type": "markdown",
   "source": [
    "## VII. Traversing a List\n",
    "\n",
    "Oftentimes, we need to process the elements inside a list one by one. For example, given a list of numbers, if we want to add them up, we need to go through these numbers one by one. Going through all the elements in a sequence one by one is called <b>traversing</b> the sequence or <b>iterating through</b> the sequence.\n",
    "\n",
    "There is a very easy way to traverse a list. The code below shows an example:"
   ],
   "metadata": {}
  },
  {
   "cell_type": "code",
   "execution_count": null,
   "source": [
    "for number in list1:\r\n",
    "    print(number)\r\n",
    "\r\n",
    "for i in range(len(list1)):\r\n",
    "    print(list1[i])"
   ],
   "outputs": [],
   "metadata": {}
  },
  {
   "cell_type": "markdown",
   "source": [
    "<img align=\"left\" src='https://drive.google.com/uc?export=view&id=0B08uY8vosNfobDBuOXVXQWVxMFE' style=\"width: 60px; height: 60px;\"><br />Let's do an exercise !"
   ],
   "metadata": {}
  },
  {
   "cell_type": "markdown",
   "source": [
    "Given the following list of numbers, use a for-loop to traverse the list to compute the sum of all the <b>positive</b> numbers inside the list.\n",
    "\n",
    "For the code below, you should see \n",
    "\n",
    "    42.7\n",
    "    \n",
    "as the output if your code is implemented correctly."
   ],
   "metadata": {}
  },
  {
   "cell_type": "code",
   "execution_count": null,
   "source": [
    "my_list = [4.5, -0.9, 23.5, -78.9, 14.7]\r\n",
    "\r\n",
    "sum_of_positive_numbers = 0.0\r\n",
    "\r\n",
    "# Write your code below\r\n"
   ],
   "outputs": [],
   "metadata": {
    "tags": []
   }
  },
  {
   "cell_type": "markdown",
   "source": [
    "## VIII. Adding an Element to a List"
   ],
   "metadata": {}
  },
  {
   "cell_type": "markdown",
   "source": [
    "To add a new element to a list, we can use the `append()` method."
   ],
   "metadata": {}
  },
  {
   "cell_type": "code",
   "execution_count": null,
   "source": [
    "my_list = ['a', 'b', 'c']\r\n",
    "print(my_list)\r\n",
    "\r\n",
    "my_list.append('d')\r\n",
    "print(my_list)\r\n",
    "\r\n",
    "my_list.remove('a')\r\n",
    "print(my_list)"
   ],
   "outputs": [],
   "metadata": {
    "tags": []
   }
  },
  {
   "cell_type": "markdown",
   "source": [
    "We can see that the new element `'d'` is added to the end of the original list."
   ],
   "metadata": {}
  },
  {
   "cell_type": "markdown",
   "source": [
    "## IX. Passing a List as an Argument to a Function"
   ],
   "metadata": {}
  },
  {
   "cell_type": "markdown",
   "source": [
    "In a function, when a <b>list</b> is <b>passed as argument</b>, it is in fact a <b>reference</b> to the list which is passed. This means the caller of the function has one <b>variable referencing the list</b>, and the function being called has <b>another variable referencing the same list</b>. There is <u>only one underlying list</u>.\n",
    "\n",
    "<img align=\"left\" src='https://drive.google.com/uc?export=view&id=0B08uY8vosNfocWktY01HVTlyMGs' style=\"width: 60px; height: 60px;\"><br />If the <b>function modifies</b> the elements of the <b>list</b> passed as argument, then the <b>caller</b> will also <b>see those changes</b>."
   ],
   "metadata": {}
  },
  {
   "cell_type": "code",
   "execution_count": null,
   "source": [
    "def do_something(my_list):\r\n",
    "    my_list[0] = 5\r\n",
    "    my_list[1] = 6\r\n",
    "    my_list[2] = 7\r\n",
    "\r\n",
    "  \r\n",
    "a_list = [4, 5, 6]\r\n",
    "print(a_list)\r\n",
    "\r\n",
    "do_something(a_list)\r\n",
    "print(a_list)"
   ],
   "outputs": [],
   "metadata": {
    "tags": []
   }
  },
  {
   "cell_type": "markdown",
   "source": [
    "In this code, `a_list` is passed as an <b>argument</b> to the function `do_something()`. In the function, the parameter `my_list` <b>refers</b> to the <b>same list</b> as the one refered by `a_list`.\n",
    "\n",
    "Since the list referred by `my_list` is modified in the function, `a_list` will see the <b>same change</b>, as shown in the memory state diagram below:"
   ],
   "metadata": {}
  },
  {
   "cell_type": "markdown",
   "source": [
    "<img align=\"left\" src='https://drive.google.com/uc?export=view&id=0B08uY8vosNfoaTdsSk9oYi15RDQ' style=\"width: 410px; height: 100px;\">"
   ],
   "metadata": {}
  },
  {
   "cell_type": "markdown",
   "source": [
    "<u>In summary</u>: If a <font color = 'red'><b>function modifies</b></font> the elements of a list parameter, the <font color = 'red'><b>caller sees</b></font> the changes!"
   ],
   "metadata": {}
  },
  {
   "cell_type": "markdown",
   "source": [
    "### References\n",
    "Content inspired by the following resources:\n",
    "<ul>\n",
    "<li>Core Python Programming, Second Edition, Wesley J. Chun, Prentice Hall</li>\n",
    "<li>https://www.tutorialspoint.com/python3/python3_tutorial.pdf</li>\n",
    "<li>https://media.readthedocs.org/pdf/howtothink/latest/howtothink.pdf</li>\n",
    "<ul>"
   ],
   "metadata": {
    "collapsed": true
   }
  }
 ],
 "metadata": {
  "kernelspec": {
   "display_name": "Python 3",
   "language": "python",
   "name": "python3"
  },
  "language_info": {
   "codemirror_mode": {
    "name": "ipython",
    "version": 3
   },
   "file_extension": ".py",
   "mimetype": "text/x-python",
   "name": "python",
   "nbconvert_exporter": "python",
   "pygments_lexer": "ipython3",
   "version": "3.7.3-final"
  }
 },
 "nbformat": 4,
 "nbformat_minor": 2
}