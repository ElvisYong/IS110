{
 "cells": [
  {
   "cell_type": "markdown",
   "source": [
    "<table class=\"table table-bordered\">\n",
    "    <tr>\n",
    "        <th style=\"text-align:center; width:35%\"><img src='https://scis.smu.edu.sg/sites/all/themes/smubase_nw2_rev/svg/logo-d-smu.svg' style=\"width: 300px; height: 90px; \"></th>\n",
    "        <th style=\"text-align:center;\"><h3>IS111 - Lab 1</h3><h3>Fundamentals</h3></th>\n",
    "    </tr>\n",
    "</table>"
   ],
   "metadata": {}
  },
  {
   "cell_type": "markdown",
   "source": [
    "### Q1 [ \\* ]: Code Tracing\n",
    "\n",
    "Can you figure out what the following Python code produces <b>without running the code</b>?<br/>\n",
    "\n",
    "You may want to use a <b>sheet of paper</b> to note down the various <b>values</b> of the <b>variables</b> stored in memory as well as what is <b>displayed</b> on the <b>screen</b> (if applicable).\n",
    "\n",
    "Now run the code to <b>check</b> whether your guess is correct.\n"
   ],
   "metadata": {}
  },
  {
   "cell_type": "code",
   "execution_count": 1,
   "source": [
    "# lab1_Q1\r\n",
    "\r\n",
    "# ###########################################\r\n",
    "# The code below is given. Guess the output.\r\n",
    "# ###########################################\r\n",
    "a = 5 \r\n",
    "b = 3\r\n",
    "c = 6\r\n",
    "d = \"25\"\r\n",
    "e = 2.0\r\n",
    "\r\n",
    "print(2 + a * b)\r\n",
    "print(c % a - b)\r\n",
    "\r\n",
    "result1 = (b + c) / 2\r\n",
    "result2 = int(d) - result1\r\n",
    "print(result1, result2)\r\n",
    "\r\n",
    "print(a // e)\r\n",
    "\r\n",
    "result3 = d * (c // b)\r\n",
    "print(result3)\r\n",
    "\r\n",
    "result4 = a // b\r\n",
    "print(\"Result4 = \" + str(result4))\r\n"
   ],
   "outputs": [
    {
     "output_type": "stream",
     "name": "stdout",
     "text": [
      "17\n",
      "-2\n",
      "4.5 20.5\n",
      "2.0\n",
      "2525\n",
      "Result4 = 1\n"
     ]
    }
   ],
   "metadata": {}
  },
  {
   "cell_type": "markdown",
   "source": [
    "### Q2 [ \\* ]: Circles\n",
    "\n",
    "\n",
    "Write a piece of Python code that prompts the user for the <b>radius</b> of a circle (in cm). The program then calculates and displays the <b>circumference</b> and the <b>area</b> of the specified circle.\n",
    "\n",
    "The formulas of circumference and area of a circle are as follows (the value of <b>&pi;</b> being set to <b>3.14</b>):\n",
    "<ul>\n",
    "<li>circumference = 2 x &pi; x radius</li>\n",
    "<li>area = &pi; x radius<b><sup>2</sup></b></li>\n",
    "</ul>\n",
    "\n",
    "<b>Note</b>: <br />\n",
    "\n",
    "Generally the convention is that if a variable's <b>value</b> is <b>not supposed to be changed</b> in the program, then this variable is considered as a \"<b><font color = green>Constant</font></b>\". \n",
    "<br />\n",
    "Then to make people know that this variable is actually a constant, and that its value should not be changed later in the program, the name given to that variable follows the following convention: <b>all capital letters with underscores separating words</b>: <br />\n",
    "For Example <b><font color = green>PI</font></b>, <b><font color = green>INTEREST_RATE</font></b>, or <b><font color = green>MAX_SIZE</font></b>.<br />\n",
    "\n",
    "In this exercise, the variable &pi; has to be declared as a constant : <b>PI = 3.14</b>.<br />\n",
    "\n",
    "Your code should produce the following output:<br /><img align=\"left\" src='https://drive.google.com/uc?export=view&id=0B08uY8vosNfoOUdfZEtGYnM0eWs' style=\"width: 420px; height: 70px;\">\n",
    "\n"
   ],
   "metadata": {}
  },
  {
   "cell_type": "code",
   "execution_count": 1,
   "source": [
    "# lab1_Q2\r\n",
    "\r\n",
    "# ###########################\r\n",
    "# Write your code below:\r\n",
    "# ###########################\r\n",
    "\r\n",
    "PI = 3.14\r\n",
    "radius = float(input(\"Enter the radius of the circle: \"))\r\n",
    "circumference = str(2 * PI * radius)\r\n",
    "area = str(PI * (radius ** 2))\r\n",
    "\r\n",
    "print(f\"Area of circle of radius {radius} cm is {area} sq cm\")\r\n",
    "print(f\"Circumference of circle of radius {radius} cm is {circumference} sq cm\")"
   ],
   "outputs": [
    {
     "output_type": "stream",
     "name": "stdout",
     "text": [
      "Area of circle of radius 5.0 cm is 78.5 sq cm\n",
      "Circumference of circle of radius 5.0 cm is 31.400000000000002 sq cm\n"
     ]
    }
   ],
   "metadata": {}
  },
  {
   "cell_type": "markdown",
   "source": [
    "### Q3 [ \\* ]: Your Weight on a Difference Planet\n",
    "\n",
    "You can probably recall from your science class that your <b>weight</b> on Earth depends on both your <b>mass</b> and the <b>gravity</b> of Earth. <br />Your weight would then be different on a different planet because the gravity changes.\n",
    "\n",
    "Because <b>weight = mass x gravity</b>, multiplying your weight on Earth by the numbers below will give you your weight on another planets.\n",
    "\n",
    "<table align=\"left\" class=\"table table-bordered\" style=\"width:40%\">\n",
    "<tr>\n",
    "<th style=\"text-align:center; width:15%\">Planet</th>\n",
    "<th style=\"text-align:center; width:20%\">Multiply the Earth Weight by</th>\n",
    "</tr>\n",
    "<tr>\n",
    "<td style=\"text-align:center;\">Mercury</td>\n",
    "<td style=\"text-align:center;\">0.38</td>\n",
    "</tr>\n",
    "<tr>\n",
    "<td style=\"text-align:center;\">Venus</td>\n",
    "<td style=\"text-align:center;\">0.91</td>\n",
    "</tr>\n",
    "<tr>\n",
    "<td style=\"text-align:center;\">Jupyter</td>\n",
    "<td style=\"text-align:center;\">2.34</td>\n",
    "</tr>\n",
    "</table>\n",
    "<br /><br /><br /><br /><br /><br /><br /><br /><br />\n",
    "\n",
    "Write a piece of Python code that prompts the user for his/her weight on Earth and calculates and displays his/her weight on various other planets.\n",
    "\n",
    "You can use the following link to double check the results from your code:\n",
    "https://www.livescience.com/33356-weight-on-planets-mars-moon.html\n"
   ],
   "metadata": {}
  },
  {
   "cell_type": "code",
   "execution_count": 2,
   "source": [
    "# lab1_Q3\r\n",
    "\r\n",
    "# ########################\r\n",
    "# Write your code below:\r\n",
    "# ########################\r\n",
    "\r\n",
    "weight = float(input(\"Enter your weight in kg: \"))\r\n",
    "\r\n",
    "mecury_weight = weight * 0.38\r\n",
    "venus_weight = weight * 0.91\r\n",
    "jupyter_weight = weight * 2.34\r\n",
    "\r\n",
    "print(f\"Your weight on Mecury is {mecury_weight}\")\r\n",
    "print(f\"Your weight on Venus is {venus_weight}\")\r\n",
    "print(f\"Your weight on Jupyter is {jupyter_weight}\")"
   ],
   "outputs": [
    {
     "output_type": "stream",
     "name": "stdout",
     "text": [
      "Your weight on Mecury is 30.4\n",
      "Your weight on Venus is 72.8\n",
      "Your weight on Jupyter is 187.2\n"
     ]
    }
   ],
   "metadata": {}
  },
  {
   "cell_type": "markdown",
   "source": [
    "### Q4 [ \\*\\* ]: Final Score Calculator\n",
    "\n",
    "Let's write some Python code that helps you calculate your final <b>cumulative score</b> for a course titled \"Introduction to University Life\".\n",
    "\n",
    "This course has several assessments. For each assessment, there is a <b>total score</b>, which is the maximum score you could achieve for that assessment. Each assessment counts towards a certain <b>percentage of the final cumulative score</b>. The final cumulative score is on a scale of <b>[0 - 100]</b>.\n",
    "\n",
    "The assessments of this course are shown below:\n",
    "\n",
    "<ul>\n",
    "<li>Assignments:\n",
    "    <ul>\n",
    "        <li>Assignment 1: (total score 10 marks), 10%</li>\n",
    "        <li>Assignment 2: (total score 10 marks), 10%</li>\n",
    "        <li>Assignment 3: (total score 10 marks), 10%</li>\n",
    "    </ul>\n",
    "</li>\n",
    "<li>Tests:\n",
    "    <ul>\n",
    "        <li>Test 1: (total score 30 marks), 15%</li>\n",
    "        <li>Test 2: (total score 40 marks), 20%</li>\n",
    "        <li>Exam: (total score 140 marks), 35%</li>\n",
    "    </ul>\n",
    "</li>\n",
    "</ul>\n",
    "\n",
    "For example, Test 1 is 30 marks in total and counts towards 15% of your final score. If your raw score for Test 1 is 20 marks, it is two thirds of the total score for Test 1 and it will contribute 10 marks (which is two thirds of 15) to your final cumulative score.\n",
    "\n",
    "Your code should produce the following sample output:<br /><img align=\"left\" src='https://drive.google.com/uc?export=view&id=0B08uY8vosNfodDdrN1hFVi1rdFE' style=\"width: 350px; height: 130px;\">"
   ],
   "metadata": {}
  },
  {
   "cell_type": "code",
   "execution_count": 3,
   "source": [
    "# #########################\r\n",
    "# Write your code below:\r\n",
    "# #########################\r\n",
    "assignment_1 = float(input(\"What's your score for Assignment 1? \"))\r\n",
    "assignment_2 = float(input(\"What's your score for Assignment 2? \"))\r\n",
    "assignment_3 = float(input(\"What's your score for Assignment 3? \"))\r\n",
    "\r\n",
    "test_1 = float(input(\"What's your score for test 1? \"))\r\n",
    "test_2 = float(input(\"What's your score for test 2? \"))\r\n",
    "\r\n",
    "exam = float(input(\"What's your score for the exam? \"))\r\n",
    "\r\n",
    "cumulative_score = assignment_1 + assignment_2 + assignment_3 + \\\r\n",
    "    ((test_1/30 * 100) * 0.15) + \\\r\n",
    "    ((test_2/40 * 100) * 0.2) + ((exam/140 * 100) * 0.35)\r\n",
    "\r\n",
    "print(f\"Your final cumulative score is {cumulative_score}/100\" )"
   ],
   "outputs": [
    {
     "output_type": "stream",
     "name": "stdout",
     "text": [
      "Your final cumulative score is 72.625/100\n"
     ]
    }
   ],
   "metadata": {}
  },
  {
   "cell_type": "markdown",
   "source": [
    "\n",
    "### Q5 [ \\*\\* ]: Compound Interest Calculator\n",
    "\n",
    "You're now going to implement a calculator for <b>compound interest</b> with a <b>fixed annual interest rate of 0.5%</b>, compounded monthly.\n",
    "\n",
    "Take a look at the following page to understand how compound interest is calculated:\n",
    "<a href=\"http://www.thecalculatorsite.com/articles/finance/compound-interest-formula.php\">Compound Interest Formula - Explained</a>\n",
    "\n",
    "Your code should:\n",
    "<ul>\n",
    "    <li>Prompt the user for the amount of principal that's deposited.</li>\n",
    "    <li>Prompt the user for the deposit time (in years).</li>\n",
    "    <li>Calculate the amount of interest the user will earn at the end of the deposit period.</li>\n",
    "</ul>\n",
    "\n",
    "Your code should produce the following sample output:<br /><img align=\"left\" src='https://drive.google.com/uc?export=view&id=0B08uY8vosNfoalVPWHlnWnViaEU' style=\"width: 350px; height: 80px;\"> <br /><br /><br /><br /><br />\n",
    "\n",
    "<b>Note</b>: To round a reel number x with n decimals after the decimal point, use the following function: <b>round(x,n)</b>."
   ],
   "metadata": {}
  },
  {
   "cell_type": "code",
   "execution_count": 6,
   "source": [
    "#{ #################################\r\n",
    "# The code below is given!!!!\r\n",
    "# #################################\r\n",
    "# You are given the following constants:\r\n",
    "\r\n",
    "# Annual interest rate (which is fixed)\r\n",
    "ANNUAL_INTEREST_RATE = 0.005\r\n",
    "# Number of times the interest is compounded per year\r\n",
    "FREQUENCY_OF_COMPOUNDING = 12\r\n",
    "\r\n",
    "# #################################\r\n",
    "# Write your code below:\r\n",
    "# #################################\r\n",
    "\r\n",
    "\r\n",
    "principal = float(input(\"What's the the amount of your principal? \"))\r\n",
    "years = float(input(\"How many years do you want to deposit the money? \"))\r\n",
    "\r\n",
    "interest = principal * (1 + (ANNUAL_INTEREST_RATE / FREQUENCY_OF_COMPOUNDING)) ** (FREQUENCY_OF_COMPOUNDING * years)\r\n",
    "earned = interest - principal  \r\n",
    "\r\n",
    "print(f\"The interest you will earn is ${round(earned, 2)} \", )"
   ],
   "outputs": [
    {
     "output_type": "stream",
     "name": "stdout",
     "text": [
      "The interest you will earn is: $882.52 \n"
     ]
    }
   ],
   "metadata": {}
  },
  {
   "cell_type": "markdown",
   "source": [
    "### Q6 [ \\*\\* ]: Currency\n",
    "\n",
    "\n",
    "If you visit the United States, you'll need to get familiar with their currency and the various <b>coins</b> and <b>notes</b> in circulation. Look at this link to find out more about their various coins and notes: \n",
    "http://www.immihelp.com/newcomer/usa-currency-coins.html\n",
    "\n",
    "Here's a list of common coins:\n",
    "<ul>\n",
    "<li>Penny - 1 cent</li>\n",
    "<li>Nickle - 5 cents</li>\n",
    "<li>Dime - 10 cents</li>\n",
    "<li>Quarter - 25 cents</li>\n",
    "</ul>\n",
    "\n",
    "And the commonly used notes are : \\$1, \\$5, \\$10 and \\$20 notes.\n",
    "\n",
    "Let's write some Python code that prompts the user for an amount to pay (in US$) and that helps him/her to know <b>how many coins or notes</b> he/she has to provide in each denomination, to provide the <b>exact change</b>. <br />\n",
    "Some starting code is already given to you (which takes care of the conversion pricision from float to int - you can ignore ).\n",
    "\n",
    "Your code should produce the following sample output:<br /><img align=\"left\" src='https://drive.google.com/uc?export=view&id=0B08uY8vosNfoSHQ3NjZvd0YtQWc' style=\"width: 290px; height: 180px;\">"
   ],
   "metadata": {}
  },
  {
   "cell_type": "code",
   "execution_count": 9,
   "source": [
    "# lab1_Q6\r\n",
    "\r\n",
    "# ################################\r\n",
    "# The code below is given!!!!\r\n",
    "# ################################\r\n",
    "\r\n",
    "amount = float(input(\"Enter payment amount (US$) :\"))\r\n",
    "amount_in_cents = int(round(amount * 100))\r\n",
    "\r\n",
    "# ################################\r\n",
    "# Write your code below:\r\n",
    "# ################################\r\n",
    "twenty_notes = amount // 20\r\n",
    "remaining_amount = amount % 20\r\n",
    "\r\n",
    "ten_notes = remaining_amount // 10\r\n",
    "remaining_amount = round(remaining_amount % 10, 2)\r\n",
    "\r\n",
    "five_notes = remaining_amount // 5\r\n",
    "remaining_amount = round(remaining_amount % 5, 2)\r\n",
    "\r\n",
    "one_notes = remaining_amount // 1\r\n",
    "remaining_amount = round(remaining_amount % 1, 2)\r\n",
    "\r\n",
    "quarter_cents = remaining_amount // 0.25\r\n",
    "remaining_amount = round(remaining_amount % 0.25, 2)\r\n",
    "\r\n",
    "dime_cents = remaining_amount // 0.1\r\n",
    "remaining_amount = round(remaining_amount % 0.1, 2)\r\n",
    "\r\n",
    "nickle_cents = remaining_amount // 0.05\r\n",
    "remaining_amount = round(remaining_amount % 0.05, 2)\r\n",
    "\r\n",
    "pennny_cents = remaining_amount // 0.01\r\n",
    "remaining_amount = round(remaining_amount % 0.01, 2)\r\n",
    "\r\n",
    "\r\n",
    "print(\"You need to give: \")\r\n",
    "print(int(twenty_notes), \"($20 notes)\")\r\n",
    "print(int(ten_notes), \"($10 notes)\")\r\n",
    "print(int(five_notes), \"($5 notes)\")\r\n",
    "print(int(one_notes), \"($1 notes)\")\r\n",
    "print(int(quarter_cents), \"(quarters coins)\")\r\n",
    "print(int(dime_cents), \"(dimes coins)\")\r\n",
    "print(int(nickle_cents), \"(nickles coins)\")\r\n",
    "print(\"and\", int(pennny_cents), \"(pennies coins)\")\r\n",
    "\r\n",
    "\r\n",
    "\r\n",
    "\r\n",
    "\r\n",
    "\r\n",
    "\r\n"
   ],
   "outputs": [
    {
     "output_type": "stream",
     "name": "stdout",
     "text": [
      "0.04\n",
      "You need to give: \n",
      "7 ($20 notes)\n",
      "1 ($10 notes)\n",
      "1 ($5 notes)\n",
      "2 ($1 notes)\n",
      "3 (quarters coins)\n",
      "1 (dimes coins)\n",
      "0 (nickles coins)\n",
      "and 4 (pennies coins)\n"
     ]
    }
   ],
   "metadata": {}
  }
 ],
 "metadata": {
  "kernelspec": {
   "name": "python3",
   "display_name": "Python 3.9.5 64-bit"
  },
  "language_info": {
   "codemirror_mode": {
    "name": "ipython",
    "version": 3
   },
   "file_extension": ".py",
   "mimetype": "text/x-python",
   "name": "python",
   "nbconvert_exporter": "python",
   "pygments_lexer": "ipython3",
   "version": "3.9.5"
  },
  "interpreter": {
   "hash": "63fd5069d213b44bf678585dea6b12cceca9941eaf7f819626cde1f2670de90d"
  }
 },
 "nbformat": 4,
 "nbformat_minor": 2
}