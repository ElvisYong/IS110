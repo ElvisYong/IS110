{
 "cells": [
  {
   "cell_type": "markdown",
   "source": [
    "<table class=\"table table-bordered\">\r\n",
    "    <tr>\r\n",
    "        <th style=\"text-align:center; width:35%\"><img src='https://scis.smu.edu.sg/sites/all/themes/smubase_nw2_rev/svg/logo-d-smu.svg' style=\"width: 300px; height: 90px; \"></th>\r\n",
    "        <th style=\"text-align:center;\"><h3>IS111 - Notebook 7</h3><h2>for Loops</h2></th>\r\n",
    "    </tr>\r\n",
    "</table>"
   ],
   "metadata": {}
  },
  {
   "cell_type": "markdown",
   "source": [
    "## Learning Outcomes\r\n",
    "\r\n",
    "At the end of this lesson, you should be able to:\r\n",
    "<ul>\r\n",
    "<li> Use a for-loop together with the <b>range()</b> function to repeat an action for a fixed number of times.</li>\r\n",
    "<li> Use a for-loop together with the <b>range()</b> function to go through a sequence of integers within a certain range.</li>\r\n",
    "</ul>\r\n"
   ],
   "metadata": {}
  },
  {
   "cell_type": "markdown",
   "source": [
    "## I. for-Loops"
   ],
   "metadata": {}
  },
  {
   "cell_type": "markdown",
   "source": [
    "We have seen that to iterate through a string, we can use a for-loop as follows:"
   ],
   "metadata": {
    "collapsed": true
   }
  },
  {
   "cell_type": "code",
   "execution_count": null,
   "source": [
    "my_str = \"Python Programming\"\r\n",
    "for ch in my_str:\r\n",
    "    print(ch)\r\n"
   ],
   "outputs": [],
   "metadata": {}
  },
  {
   "cell_type": "markdown",
   "source": [
    "We have explained earlier that a for-loop allows us to <b>repeat</b> some action. When we use a for-loop to iterate through a string, we're repeating an action that's performed on a single character inside a string.\n",
    "\n",
    "Repetitions occur very often in computer programs. The very basic form of repetition is when we want to repeat an action for a fix number of times. \n",
    "\n",
    "For example, suppose we want to print the message `\"Hello!\"` 5 times. How can we write the code?"
   ],
   "metadata": {}
  },
  {
   "cell_type": "code",
   "execution_count": null,
   "source": [
    "print(\"Hello!\")\r\n",
    "print(\"Hello!\")\r\n",
    "print(\"Hello!\")\r\n",
    "print(\"Hello!\")\r\n",
    "print(\"Hello!\")"
   ],
   "outputs": [],
   "metadata": {
    "collapsed": true
   }
  },
  {
   "cell_type": "markdown",
   "source": [
    "Although the code above achieves the goal, the code is not concise.\n",
    "\n",
    "We can use a for-loop as follows to repeat the action for 5 times:"
   ],
   "metadata": {}
  },
  {
   "cell_type": "code",
   "execution_count": null,
   "source": [
    "for n in range(5):\r\n",
    "    print(\"Hello!\")"
   ],
   "outputs": [],
   "metadata": {
    "collapsed": true
   }
  },
  {
   "cell_type": "markdown",
   "source": [
    "## II. range()\n",
    "\n",
    "In the code above, we have used a special function called `range()` that can help us. What the `range()` function does is to implicitly create a sequence of integers. When we call `range(n)`, a sequence of integers ranging from `0` to `(n-1)` is implicitly created. We can verify this by the code below:"
   ],
   "metadata": {}
  },
  {
   "cell_type": "code",
   "execution_count": null,
   "source": [
    "for n in range(10):\r\n",
    "    print(n)"
   ],
   "outputs": [],
   "metadata": {
    "collapsed": true
   }
  },
  {
   "cell_type": "markdown",
   "source": [
    "With the `range()` function, we can flexibly specify how many times we want an action to be performed, as illustrated below:"
   ],
   "metadata": {}
  },
  {
   "cell_type": "code",
   "execution_count": null,
   "source": [
    "number = int(input(\"How many times do you want to repeat the message? \"))\r\n",
    "\r\n",
    "for n in range(number):\r\n",
    "    print(\"Hello!\")"
   ],
   "outputs": [],
   "metadata": {
    "collapsed": true
   }
  },
  {
   "cell_type": "markdown",
   "source": [
    "You can run the code above mutiple times and try different values of `n`. You can see the `\"Hello\"` will be printed exactly `n` times, depending on the value of `n` you have specified."
   ],
   "metadata": {}
  },
  {
   "cell_type": "markdown",
   "source": [
    "It is important to note that the range of integers starts from `0` and ends with `(n-1)`, where `n `is the number given."
   ],
   "metadata": {}
  },
  {
   "cell_type": "markdown",
   "source": [
    "### `range(start, end, step)`\n",
    "\n",
    "More generally, `range()` function can take in three parameters, indicating the start, the end, and optionally a step value.\n",
    "\n",
    "See the code below to observe how it works:"
   ],
   "metadata": {}
  },
  {
   "cell_type": "code",
   "execution_count": null,
   "source": [
    "for n in range(5, 10):\r\n",
    "    print(n)"
   ],
   "outputs": [],
   "metadata": {}
  },
  {
   "cell_type": "code",
   "execution_count": null,
   "source": [
    "for n in range(0, 10, 2):\r\n",
    "    print(n)"
   ],
   "outputs": [],
   "metadata": {}
  },
  {
   "cell_type": "markdown",
   "source": [
    "We can see that by calling `range(m, n)`, we implicitly create a sequence of integers from `m` to `(n-1)`.\n",
    "And by calling `range(m, n, s)`, we implicitly create a sequence of integers from `m` to `(n-1)`, where the integers increase by `s` every time.\n",
    "Here `s` is the <b>step</b> value, similar to what we have seen in string slicing."
   ],
   "metadata": {}
  },
  {
   "cell_type": "markdown",
   "source": [
    "<img align=\"left\" src='https://drive.google.com/uc?export=view&id=0B08uY8vosNfobDBuOXVXQWVxMFE' style=\"width: 60px; height: 60px;\"><br />Let's do an exercise !"
   ],
   "metadata": {
    "collapsed": true
   }
  },
  {
   "cell_type": "markdown",
   "source": [
    "Write a for-loop to display all the even numbers between 2 and 50.\n",
    "\n",
    "The output of your code should be the following:\n",
    "\n",
    "    2 4 6 8 10 12 14 16 18 20 22 24 26 28 30 32 34 36 38 40 42 44 46 48 50\n",
    "\n",
    "There are two ways to solve the problem. One way is to use an if/else statement inside the for-loop. The other way is to use a step value in the `range()` function."
   ],
   "metadata": {}
  },
  {
   "cell_type": "code",
   "execution_count": null,
   "source": [
    "# Write your code below to produce the output shown above.\r\n"
   ],
   "outputs": [],
   "metadata": {
    "collapsed": true
   }
  },
  {
   "cell_type": "markdown",
   "source": [
    "Note that just like in string slicing, here a step can also be negative value, and in that case, the value of `m` should be greater than the value of `n`.\n",
    "\n",
    "Run the code below to understand how it works:"
   ],
   "metadata": {}
  },
  {
   "cell_type": "code",
   "execution_count": null,
   "source": [
    "for n in range(10, 5, -1):\r\n",
    "    print(n, end=' ')"
   ],
   "outputs": [],
   "metadata": {}
  },
  {
   "cell_type": "markdown",
   "source": [
    "<img align=\"left\" src='https://drive.google.com/uc?export=view&id=0B08uY8vosNfobDBuOXVXQWVxMFE' style=\"width: 60px; height: 60px;\"><br />Let's do an exercise !"
   ],
   "metadata": {}
  },
  {
   "cell_type": "markdown",
   "source": [
    "Can you write a for-loop with the `range()` function to display the following output?\n",
    "\n",
    "`12 9 6 3 0`"
   ],
   "metadata": {}
  },
  {
   "cell_type": "code",
   "execution_count": null,
   "source": [
    "# Write your code below:\r\n"
   ],
   "outputs": [],
   "metadata": {
    "collapsed": true
   }
  },
  {
   "cell_type": "code",
   "execution_count": null,
   "source": [],
   "outputs": [],
   "metadata": {
    "collapsed": true
   }
  }
 ],
 "metadata": {
  "kernelspec": {
   "display_name": "Python 3",
   "language": "python",
   "name": "python3"
  },
  "language_info": {
   "codemirror_mode": {
    "name": "ipython",
    "version": 3
   },
   "file_extension": ".py",
   "mimetype": "text/x-python",
   "name": "python",
   "nbconvert_exporter": "python",
   "pygments_lexer": "ipython3",
   "version": "3.6.1"
  }
 },
 "nbformat": 4,
 "nbformat_minor": 2
}